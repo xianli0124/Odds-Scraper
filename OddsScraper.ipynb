{
 "cells": [
  {
   "cell_type": "markdown",
   "metadata": {},
   "source": [
    "###  This notebook scrapes LoL betting odds from \n",
    "\n",
    "https://arcanebet.com/esports/title/59"
   ]
  },
  {
   "cell_type": "code",
   "execution_count": 1,
   "metadata": {
    "scrolled": true
   },
   "outputs": [],
   "source": [
    "from selenium import webdriver\n",
    "from bs4 import BeautifulSoup as soup\n",
    "import pandas as pd\n",
    "import numpy as np\n",
    "import datetime as dt\n",
    "import time\n",
    "from parse import *"
   ]
  },
  {
   "cell_type": "code",
   "execution_count": 2,
   "metadata": {
    "scrolled": true
   },
   "outputs": [],
   "source": [
    "target_urls = ['https://arcanebet.com/esports/title/59/tour/9256', 'https://arcanebet.com/esports/title/59/tour/5009',\n",
    "               'https://arcanebet.com/esports/title/59/tour/9265', 'https://arcanebet.com/esports/title/59/tour/2375']"
   ]
  },
  {
   "cell_type": "code",
   "execution_count": 3,
   "metadata": {},
   "outputs": [],
   "source": [
    "def scrape_site(url):\n",
    "    #browser = webdriver.Safari(executable_path = '/usr/bin/safaridriver')    \n",
    "    browser = webdriver.Firefox() \n",
    "    browser.get(url)\n",
    "    time.sleep(5)\n",
    "    page_soup = soup(browser.page_source, 'lxml')\n",
    "    browser.close()\n",
    "    odds = page_soup.find_all('div', class_ = 'px-4 py-1 market-odd col')\n",
    "    times = page_soup.find_all('div', class_ = 'row p-3 no-gutters')\n",
    "    return odds, times\n",
    "    \n",
    "def parse_odds(odds):\n",
    "    team_list = []\n",
    "    odd_list = []\n",
    "    for odd in odds:\n",
    "        res = parse('{Team}\\n{space}\\n{Odds}', odd.text.strip())\n",
    "        team_list.append(res.named.get('Team'))\n",
    "        odd_list.append(float(res.named.get('Odds')))\n",
    "    return team_list, odd_list\n",
    "\n",
    "def parse_times(times):\n",
    "    time_list = []\n",
    "    for time in times:\n",
    "        res = parse('{Day}\\n{space}\\n{Time}', time.text.strip())\n",
    "        date = res.named.get('Day')\n",
    "        if date == 'Today':\n",
    "            temp = dt.date.today()\n",
    "            day = temp.day\n",
    "            month = temp.month\n",
    "            year = temp.year\n",
    "        elif date == 'Tomorrow':\n",
    "            temp = dt.date.today() + dt.timedelta(days = 1)\n",
    "            day = temp.day\n",
    "            month = temp.month\n",
    "            year = temp.year\n",
    "        else:\n",
    "            temp = parse('{Day}.{Month}', date)\n",
    "            temp2 = dt.date.today()\n",
    "            day = int(temp.named.get('Day'))\n",
    "            month = int(temp.named.get('Month'))\n",
    "            year = temp2.year\n",
    "        time_list.append(str(month) + '/' + str(day) + '/' + str(year) + ' ' + res.named.get('Time').strip())       \n",
    "    return time_list\n",
    "\n",
    "def build_table(team_list, odd_list, time_list):\n",
    "    team_1 = []\n",
    "    team_2 = []\n",
    "    team_1_odd = []\n",
    "    team_2_odd = []\n",
    "    count = 0\n",
    "    for i in range(len(team_list)):\n",
    "        if count % 2 == 0:\n",
    "            team_1.append(team_list[i])\n",
    "            team_1_odd.append(odd_list[i])\n",
    "        else:\n",
    "            team_2.append(team_list[i])\n",
    "            team_2_odd.append(odd_list[i])\n",
    "        count = count + 1\n",
    "    table = pd.DataFrame(np.c_[time_list, team_1, team_2, team_1_odd, team_2_odd], \n",
    "                         columns = ['Date', 'Team 1', 'Team 2', 'Odd 1', 'Odd 2'])\n",
    "    return table"
   ]
  },
  {
   "cell_type": "code",
   "execution_count": 4,
   "metadata": {
    "scrolled": false
   },
   "outputs": [],
   "source": [
    "odd_table = pd.DataFrame()\n",
    "for target_url in target_urls:\n",
    "    odds, times = scrape_site(target_url)\n",
    "    if len(odds) > 0:\n",
    "        team_list, odd_list = parse_odds(odds)\n",
    "        time_list = parse_times(times)\n",
    "        table = build_table(team_list, odd_list, time_list)\n",
    "        odd_table = odd_table.append(table)\n",
    "odd_table['Date'] = pd.to_datetime(odd_table['Date'])\n",
    "pull_time = pd.to_datetime(dt.datetime.today().replace(microsecond = 0))\n",
    "odd_table['Pull Time'] = [pull_time for i in range(len(odd_table))]\n",
    "odd_table = odd_table.reset_index().drop('index', axis = 1)"
   ]
  },
  {
   "cell_type": "code",
   "execution_count": 5,
   "metadata": {
    "scrolled": true
   },
   "outputs": [],
   "source": [
    "try:\n",
    "    Odds_DB = pd.read_excel('LoL_Odds_DB.xlsx')\n",
    "    cur_size = len(Odds_DB)\n",
    "    for i in range(odd_table.index.shape[0]):\n",
    "        dup = Odds_DB[(pd.to_datetime(Odds_DB['Date']) == odd_table['Date'][i]) \\\n",
    "                      & (Odds_DB['Team 1'] == odd_table['Team 1'][i]) \\\n",
    "                      & (Odds_DB['Team 2'] == odd_table['Team 2'][i]) \\\n",
    "                      & (Odds_DB['Odd 1'] == odd_table['Odd 1'][i]) \\\n",
    "                      & (Odds_DB['Odd 2'] == odd_table['Odd 2'][i])] \n",
    "        if not dup.empty:\n",
    "            continue\n",
    "        else:\n",
    "            Odds_DB.loc[Odds_DB.shape[0]] = odd_table.loc[i]\n",
    "    Odds_DB['Date'] = pd.to_datetime(Odds_DB['Date'])\n",
    "    Odds_DB = Odds_DB.sort_values(by=['Date'])\n",
    "    if len(Odds_DB) > cur_size:\n",
    "        Odds_DB.to_excel('LoL_Odds_DB.xlsx', index = False)\n",
    "except:\n",
    "    Odds_DB = odd_table\n",
    "    Odds_DB['Date'] = pd.to_datetime(Odds_DB['Date'])\n",
    "    Odds_DB = Odds_DB.sort_values(by=['Date'])\n",
    "    Odds_DB.to_excel('LoL_Odds_DB.xlsx', index = False)"
   ]
  }
 ],
 "metadata": {
  "kernelspec": {
   "display_name": "Python 3",
   "language": "python",
   "name": "python3"
  },
  "language_info": {
   "codemirror_mode": {
    "name": "ipython",
    "version": 3
   },
   "file_extension": ".py",
   "mimetype": "text/x-python",
   "name": "python",
   "nbconvert_exporter": "python",
   "pygments_lexer": "ipython3",
   "version": "3.7.4"
  }
 },
 "nbformat": 4,
 "nbformat_minor": 2
}
